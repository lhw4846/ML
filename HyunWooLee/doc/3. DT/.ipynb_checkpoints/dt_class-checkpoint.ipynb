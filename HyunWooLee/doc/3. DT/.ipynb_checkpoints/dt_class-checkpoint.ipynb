{
 "cells": [
  {
   "cell_type": "markdown",
   "metadata": {},
   "source": [
    "# 3장 DT(Decision Tree)\n",
    "\n",
    "<img src=\"img/1.PNG\" />\n",
    "\n",
    "#### 장점\n",
    "- 계산 비용이 적다.\n",
    "- 학습된 결과를 사람이 이해하기 쉬우며 누락된 값(missing values)이 있어도 처리할 수 있다.\n",
    "- 분류와 관련이 없는 속성이 있어도 처리할 수 있다.\n",
    "\n",
    "#### 단점\n",
    "- 과적합(overfitting)되기 쉽다.\n",
    "\n",
    "#### 적용\n",
    "- 수치형 값, 명목형 값\n",
    "\n",
    "#### 목차\n",
    " 3.1 트리 구조<br/>\n",
    " 3.2 매스플롯라이브러리 주석으로 파이썬에서 트리 플롯하기<br/>\n",
    " 3.3 분류기 검사와 저장<br/>\n",
    " 3.4 예제: 콘택트렌즈 유형 예측하기<br/>\n",
    " 3.5 예제: 000<br/>\n",
    " \n",
    " \n",
    "<br/><br/>\n",
    "## 3.1 트리 구조\n",
    "<img src=\"img/2.png\" />\n",
    "\n",
    "- 정보 이론(information theory)을 이용하여 데이터 집합을 어떻게 분할하는지에 대한 수학적인 방법을 논할 것\n",
    "- 데이터 집합을 처리하는 데 이 이론을 적용하기 위하여 코드를 작성할 것\n",
    "- 트리를 만들기 위한 코드를 작성할 것\n",
    "\n",
    "\n",
    "### 3.1.1 정보 이득\n",
    "\n",
    "#### 정보 이득(information gain)\n",
    "- 데이터를 분할하기 전과 후의 변화\n",
    "- 어떤 속성으로 데이터를 분할할 때, 가장 높은 정보 이득을 취할 수 있는지 확인 가능함\n",
    "- 정보 이득이 가장 높은 속성을 가지고 분할하는 것이 가장 좋은 선택임\n",
    "\n",
    "#### 섀넌 엔트로피(Shannon entropy)\n",
    "- 데이터 집합에 대한 정보 측정 방법\n",
    "- 엔트로피가 더 높다는 것은 데이터가 그만큼 더 혼잡하다는 것을 뜻함\n",
    "- <img src=\"img/3.png\" />"
   ]
  },
  {
   "cell_type": "code",
   "execution_count": 94,
   "metadata": {
    "collapsed": true
   },
   "outputs": [],
   "source": [
    "from math import log\n",
    "\n",
    "# calShannonEnt 함수\n",
    "# dataSet: 엔트로피 계산을 원하는 데이터 집합\n",
    "# shannonEnt: 엔트로피 값\n",
    "def calcShannonEnt(dataSet):\n",
    "    numEntries = len(dataSet)\n",
    "    labelCounts = {}\n",
    "    # 가능한 모든 분류 항목에 대한 딕셔너리 생성\n",
    "    for featVec in dataSet:\n",
    "        currentLabel = featVec[-1]\n",
    "        if currentLabel not in labelCounts.keys():\n",
    "            labelCounts[currentLabel] = 0\n",
    "        labelCounts[currentLabel] += 1\n",
    "    # 섀넌 엔트로피 계산\n",
    "    shannonEnt = 0.0\n",
    "    for key in labelCounts:\n",
    "        prob = float(labelCounts[key]) / numEntries\n",
    "        shannonEnt -= prob * log(prob, 2)  # 밑수가 2인 로그\n",
    "    return shannonEnt"
   ]
  },
  {
   "cell_type": "code",
   "execution_count": 95,
   "metadata": {
    "collapsed": false,
    "scrolled": true
   },
   "outputs": [
    {
     "name": "stdout",
     "output_type": "stream",
     "text": [
      "[[1, 1, 'yes'], [1, 1, 'yes'], [1, 0, 'no'], [0, 1, 'no'], [0, 1, 'no']]\n",
      " = 0.970951\n",
      "[[1, 1, 'maybe'], [1, 1, 'yes'], [1, 0, 'no'], [0, 1, 'no'], [0, 1, 'no']]\n",
      " = 1.370951\n"
     ]
    }
   ],
   "source": [
    "# createDataSet 함수\n",
    "# dataSet: 데이터 집합\n",
    "# labels: 속성 집합\n",
    "def createDataSet():\n",
    "    dataSet = [[1, 1, 'yes'],\n",
    "               [1, 1, 'yes'],\n",
    "               [1, 0, 'no'],\n",
    "               [0, 1, 'no'],\n",
    "               [0, 1, 'no']]\n",
    "    labels = ['no surfacing', 'flippers']\n",
    "    return dataSet, labels\n",
    "\n",
    "# calShannonEnt 사용 예제\n",
    "myDat, labels = createDataSet()\n",
    "print myDat\n",
    "print \" = %f\" % calcShannonEnt(myDat)\n",
    "myDat[0][-1] = 'maybe'\n",
    "print myDat\n",
    "print \" = %f\" % calcShannonEnt(myDat)"
   ]
  },
  {
   "cell_type": "markdown",
   "metadata": {},
   "source": [
    "### 3.1.2 데이터 집합 분할하기"
   ]
  },
  {
   "cell_type": "code",
   "execution_count": 96,
   "metadata": {
    "collapsed": true
   },
   "outputs": [],
   "source": [
    "# splitDataSet 함수\n",
    "# dataSet: 분할하고자 하는 데이터 집합\n",
    "# axis: 분할하고자 하는 속성\n",
    "# value: 반환할 속성의 값\n",
    "# retDataSet: 분할된 데이터 집합\n",
    "def splitDataSet(dataSet, axis, value):\n",
    "    retDataSet = []  # 분할 리스트 생성\n",
    "    for featVec in dataSet:\n",
    "        if featVec[axis] == value:\n",
    "            reducedFeatVec = featVec[:axis]\n",
    "            reducedFeatVec.extend(featVec[axis+1:])\n",
    "            retDataSet.append(reducedFeatVec)\n",
    "    return retDataSet"
   ]
  },
  {
   "cell_type": "code",
   "execution_count": 97,
   "metadata": {
    "collapsed": false
   },
   "outputs": [
    {
     "name": "stdout",
     "output_type": "stream",
     "text": [
      "[1, 2, 3, [4, 5, 6]]\n",
      "[1, 2, 3, 4, 5, 6]\n"
     ]
    }
   ],
   "source": [
    "# append, extend 차이\n",
    "a=[1, 2, 3]\n",
    "b=[4, 5, 6]\n",
    "\n",
    "a.append(b)\n",
    "print a\n",
    "\n",
    "a=[1, 2, 3]\n",
    "a.extend(b)\n",
    "print a"
   ]
  },
  {
   "cell_type": "code",
   "execution_count": 98,
   "metadata": {
    "collapsed": false
   },
   "outputs": [
    {
     "name": "stdout",
     "output_type": "stream",
     "text": [
      "[[1, 1, 'yes'], [1, 1, 'yes'], [1, 0, 'no'], [0, 1, 'no'], [0, 1, 'no']]\n",
      "[[1, 'yes'], [1, 'yes'], [0, 'no']]\n",
      "[[1, 'no'], [1, 'no']]\n"
     ]
    }
   ],
   "source": [
    "# splitDataSet 사용 예제\n",
    "myDat, labels = createDataSet()\n",
    "print myDat\n",
    "print splitDataSet(myDat, 0, 1)\n",
    "print splitDataSet(myDat, 0, 0)"
   ]
  },
  {
   "cell_type": "code",
   "execution_count": 99,
   "metadata": {
    "collapsed": true
   },
   "outputs": [],
   "source": [
    "# chooseBestFeatureToSplit 함수\n",
    "# dataSet: 데이터 집합\n",
    "# bestFeature: 가장 정보 이득이 큰 속성\n",
    "def chooseBestFeatureToSplit(dataSet):\n",
    "    numFeatures = len(dataSet[0]) - 1  # 속성 개수\n",
    "    baseEntropy = calcShannonEnt(dataSet)  # 분할 전 데이터 집합의 엔트로피\n",
    "    bestInfoGain = 0.0; bestFeature = -1\n",
    "    for i in range(numFeatures):\n",
    "        featList = [example[i] for example in dataSet]\n",
    "        uniqueVals = set(featList)  # 분류 항목 표시에 대해 중복이 없는 리스트 생성\n",
    "        newEntropy = 0.0\n",
    "        for value in uniqueVals:\n",
    "            subDataSet = splitDataSet(dataSet, i, value)\n",
    "            prob = len(subDataSet) / float(len(dataSet))\n",
    "            newEntropy += prob * calcShannonEnt(subDataSet)  # 각각의 분할을 위해 엔트로피 계산\n",
    "        infoGain = baseEntropy - newEntropy\n",
    "        if(infoGain > bestInfoGain):  # 가장 큰 정보 이득 찾기\n",
    "            bestInfoGain = infoGain\n",
    "            bestFeature = i\n",
    "    return bestFeature"
   ]
  },
  {
   "cell_type": "code",
   "execution_count": 100,
   "metadata": {
    "collapsed": false,
    "scrolled": true
   },
   "outputs": [
    {
     "name": "stdout",
     "output_type": "stream",
     "text": [
      "Best feature is 0\n"
     ]
    }
   ],
   "source": [
    "# chooseBestFeatureToSplit 사용 예제\n",
    "myDat, labels = createDataSet()\n",
    "print \"Best feature is %d\" % chooseBestFeatureToSplit(myDat)"
   ]
  },
  {
   "cell_type": "markdown",
   "metadata": {},
   "source": [
    "### 3.1.3 재귀적으로 트리 만들기\n",
    "\n",
    "####  종료 조건\n",
    "- 하나의 가지에 있는 모든 사례가 전부 같은 분류 항목일 때 -> 해당 분류 항목 반환\n",
    "- 더 이상 분할할 속성이 없을 때 -> 다수결\n",
    "\n",
    "<img src=\"img/4.png\" />"
   ]
  },
  {
   "cell_type": "code",
   "execution_count": 101,
   "metadata": {
    "collapsed": true
   },
   "outputs": [],
   "source": [
    "# majorityCnt 함수\n",
    "# classList: 클래스 리스트\n",
    "# sortedClassCount[0][0]: 가장 많은 클래스 종류\n",
    "def majorityCnt(classList):\n",
    "    classCount={}\n",
    "    for vote in classList:\n",
    "        if vote not in classCount.keys(): classCount[vote] = 0\n",
    "        classCount[vote] += 1\n",
    "    sortedClassCount = sorted(classCount.iteritems(), key=operator.itemgetter(1), reverse=True)  # count 횟수로 내림차순 정렬\n",
    "    return sortedClassCount[0][0]"
   ]
  },
  {
   "cell_type": "code",
   "execution_count": 102,
   "metadata": {
    "collapsed": true
   },
   "outputs": [],
   "source": [
    "# createTree 함수\n",
    "# dataSet: 데이터 집합\n",
    "# labels: 속성 집합\n",
    "# myTree: 트리\n",
    "def createTree(dataSet, labels):\n",
    "    classList = [example[-1] for example in dataSet]\n",
    "    if classList.count(classList[0]) == len(classList):  # 모든 분류 항목이 같을 때 멈춤\n",
    "        return classList[0]\n",
    "    if len(dataSet[0]) == 1:  # 속성이 더 이상 없을 때 가장 많은 수를 반환함\n",
    "        return majorityCnt(classList)\n",
    "    bestFeat = chooseBestFeatureToSplit(dataSet)  # 최적 속성 찾기\n",
    "    bestFeatLabel = labels[bestFeat]  # 최적 속성 이름 저장\n",
    "    myTree = {bestFeatLabel:{}}  # 가지 추가\n",
    "    del(labels[bestFeat]) # 분류된 집합 제거\n",
    "    featValues = [example[bestFeat] for example in dataSet]\n",
    "    uniqueVals = set(featValues)  # 유일한 값의 리스트를 구함\n",
    "    for value in uniqueVals:\n",
    "        subLabels = labels[:] # 중첩이 이루어지기 전에 복사물을 만듬\n",
    "        myTree[bestFeatLabel][value] = createTree(splitDataSet(dataSet, bestFeat, value), subLabels)  # 재귀 결과 트리 추가\n",
    "    return myTree"
   ]
  },
  {
   "cell_type": "code",
   "execution_count": 103,
   "metadata": {
    "collapsed": false
   },
   "outputs": [
    {
     "name": "stdout",
     "output_type": "stream",
     "text": [
      "[[1, 1, 'yes'], [1, 1, 'yes'], [1, 0, 'no'], [0, 1, 'no'], [0, 1, 'no']]\n",
      "['no surfacing', 'flippers']\n",
      "{'no surfacing': {0: 'no', 1: {'flippers': {0: 'no', 1: 'yes'}}}}\n"
     ]
    }
   ],
   "source": [
    "# createTree 사용 예제\n",
    "MyDat, labels = createDataSet()\n",
    "print myDat\n",
    "print labels\n",
    "\n",
    "myTree = createTree(myDat, labels)\n",
    "print myTree"
   ]
  },
  {
   "cell_type": "markdown",
   "metadata": {},
   "source": [
    "## 3.2 매스플롯라이브러리 주석으로 파이썬에서 트리 플롯하기\n",
    "\n",
    "- 기존에 만든 트리는 시작적으로 보기 어려움\n",
    "- 매스플롯라이브러리를 사용하여 트리로 시각화하고자 함\n",
    "\n",
    "<img src=\"img/5.PNG\" />\n",
    "\n",
    "\n",
    "### 3.2.1 매스플롯라이브러리 주석\n",
    "\n",
    "- 매스플롯라이브러리는 텍스트에 가까운 데이터를 추가할 수 있어 주석이라고 불릴 정도로 훌륭한 도구임\n",
    "\n",
    "<img src=\"img/6.PNG\" />"
   ]
  },
  {
   "cell_type": "code",
   "execution_count": 104,
   "metadata": {
    "collapsed": false
   },
   "outputs": [],
   "source": [
    "import matplotlib.pyplot as plt\n",
    "\n",
    "decisionNode = dict(boxstyle=\"sawtooth\", fc=\"0.8\")  # 상자 형태 정의 (상자 모양, 색)\n",
    "leafNode = dict(boxstyle=\"round4\", fc=\"0.8\")  # 상자 형태 정의 (상자 모양, 색)\n",
    "arrow_args = dict(arrowstyle=\"<-\")  # 화살표 형태 정의 (화살표 모양)\n",
    "\n",
    "# plotNode 함수\n",
    "# nodeTxt:노드 텍스트\n",
    "# centerPt: 자식 위치 \n",
    "# parentPt: 부모 위치\n",
    "# nodeType: 노드 종류\n",
    "def plotNode(nodeTxt, centerPt, parentPt, nodeType):\n",
    "    # 주석 달기 (http://matplotlib.org/users/annotations_intro.html)\n",
    "    createPlot.ax1.annotate(nodeTxt, xy=parentPt, xycoords='axes fraction',\n",
    "                            xytext=centerPt, textcoords='axes fraction',\n",
    "                            va=\"center\", ha=\"center\", bbox=nodeType,\n",
    "                            arrowprops=arrow_args)\n",
    "    # nodeTxt: text\n",
    "    # xy: start point\n",
    "    # xycoords: coordinate of xy (0,0 is lower left of axes and 1,1 is upper right)\n",
    "    # xytext: text point\n",
    "    # textcoords: coordinate of test (0,0 is lower left of axes and 1,1 is upper right)\n",
    "    # bbox: box border\n",
    "    # arrowprops: arrow propery\n",
    "    \n",
    "\n",
    "# createPlot 함수\n",
    "def createPlot():\n",
    "    fig = plt.figure(1, facecolor='white')\n",
    "    fig.clf()  # clearfigure\n",
    "    createPlot.ax1 = plt.subplot(111, frameon=False)  # createPlot은 전역변수\n",
    "    plotNode('a decision node', (0.5, 0.1), (0.1, 0.5), decisionNode)\n",
    "    plotNode('a leaf node', (0.8, 0.1), (0.3, 0.8), leafNode)\n",
    "    plt.show()"
   ]
  },
  {
   "cell_type": "code",
   "execution_count": 105,
   "metadata": {
    "collapsed": false
   },
   "outputs": [
    {
     "data": {
      "image/png": "[encoded data removed]",
      "text/plain": [
       "<matplotlib.figure.Figure at 0x755b240>"
      ]
     },
     "metadata": {},
     "output_type": "display_data"
    }
   ],
   "source": [
    "%matplotlib inline\n",
    "\n",
    "# createPlot 사용 예제\n",
    "createPlot()"
   ]
  },
  {
   "cell_type": "markdown",
   "metadata": {
    "collapsed": true
   },
   "source": [
    "### 3.2.2 주석 트리 구축하기\n"
   ]
  },
  {
   "cell_type": "code",
   "execution_count": 106,
   "metadata": {
    "collapsed": true
   },
   "outputs": [],
   "source": [
    "# getNumLeafs 함수\n",
    "# myTree: 트리 (dictionary)\n",
    "# numLeafs: 트리의 노드 개수\n",
    "def getNumLeafs(myTree):\n",
    "    numLeafs = 0\n",
    "    firstStr = myTree.keys()[0]\n",
    "    secondDict = myTree[firstStr]\n",
    "    for key in secondDict.keys():\n",
    "        if type(secondDict[key]).__name__=='dict':  # 노드가 Dictionary이면 의사결정 영역\n",
    "            numLeafs += getNumLeafs(secondDict[key])  # 재귀\n",
    "        else: numLeafs += 1  # 아니면 단말 영역\n",
    "    return numLeafs\n",
    "\n",
    "# getTreeDepth 함수\n",
    "# myTree: 트리 (dictionary)\n",
    "# numLeafs: 트리의 깊이\n",
    "def getTreeDepth(myTree):\n",
    "    maxDepth = 0\n",
    "    firstStr = myTree.keys()[0]\n",
    "    secondDict = myTree[firstStr]\n",
    "    for key in secondDict.keys():\n",
    "        if type(secondDict[key]).__name__=='dict':  # 노드가 Dictionary이면 의사결정 영역\n",
    "            thisDepth = 1 + getTreeDepth(secondDict[key])  # 재귀\n",
    "        else: thisDepth = 1  # 아니면 단말 영역\n",
    "        if thisDepth > maxDepth: maxDepth = thisDepth\n",
    "    return maxDepth\n",
    "\n",
    "# retrieveTree 함수\n",
    "# i: 트리 종류\n",
    "# listOfTrees[i]: i번째 트리 예제\n",
    "def retrieveTree(i):\n",
    "    listOfTrees = [{'no surfacing': {0: 'no', 1: {'flippers': {0: 'no', 1: 'yes'}}}},\n",
    "                   {'no surfacing': {0: 'no', 1: {'flippers': {0: {'head': {0: 'no', 1: 'yes'}}, 1: 'no'}}}}\n",
    "                  ]\n",
    "    return listOfTrees[i]"
   ]
  },
  {
   "cell_type": "code",
   "execution_count": 107,
   "metadata": {
    "collapsed": false
   },
   "outputs": [
    {
     "name": "stdout",
     "output_type": "stream",
     "text": [
      "Tree=\n",
      "{'no surfacing': {0: 'no', 1: {'flippers': {0: 'no', 1: 'yes'}}}}\n",
      "Number of leafs=\n",
      "3\n",
      "Depth of tree=\n",
      "2\n"
     ]
    }
   ],
   "source": [
    "myTree = retrieveTree(0)\n",
    "print \"Tree=\"\n",
    "print myTree\n",
    "print \"Number of leafs=\"\n",
    "print getNumLeafs(myTree)\n",
    "print \"Depth of tree=\"\n",
    "print getTreeDepth(myTree)"
   ]
  },
  {
   "cell_type": "code",
   "execution_count": 108,
   "metadata": {
    "collapsed": true
   },
   "outputs": [],
   "source": [
    "# plotMidText 함수\n",
    "# cntrPt: 자식 노드 위치\n",
    "# parentPt: 부모 노드 위치\n",
    "# txtString: 문자열\n",
    "def plotMidText(cntrPt, parentPt, txtString):\n",
    "    # 자식 노드와 부모 노드 사이에 텍스트 플롯하기\n",
    "    xMid = (parentPt[0]-cntrPt[0])/2.0 + cntrPt[0]\n",
    "    yMid = (parentPt[1]-cntrPt[1])/2.0 + cntrPt[1]\n",
    "    createPlot.ax1.text(xMid, yMid, txtString)\n",
    "\n",
    "    # plotTree 함수\n",
    "# myTree: 트리 (dictionary)\n",
    "# parentPt: 부모 노드 위치\n",
    "# nodeTxt: 문자열\n",
    "def plotTree(myTree, parentPt, nodeTxt):\n",
    "    # 트리의 넓이와 높이를 계산함\n",
    "    numLeafs = getNumLeafs(myTree)\n",
    "    depth = getTreeDepth(myTree)\n",
    "    firstStr = myTree.keys()[0] \n",
    "    cntrPt = (plotTree.xOff + (1.0 + float(numLeafs))/2.0/plotTree.totalW, plotTree.yOff)\n",
    "    plotMidText(cntrPt, parentPt, nodeTxt)\n",
    "    plotNode(firstStr, cntrPt, parentPt, decisionNode)  # 자식 노드 값 플롯하기\n",
    "    secondDict = myTree[firstStr]\n",
    "    plotTree.yOff = plotTree.yOff - 1.0/plotTree.totalD  # y offset 감소\n",
    "    for key in secondDict.keys():\n",
    "        if type(secondDict[key]).__name__=='dict':  # 노드가 Dictionary이면 의사결정 영역\n",
    "            plotTree(secondDict[key],cntrPt,str(key))  # 재귀\n",
    "        else:  # 아니면 단말 영역\n",
    "            plotTree.xOff = plotTree.xOff + 1.0/plotTree.totalW\n",
    "            plotNode(secondDict[key], (plotTree.xOff, plotTree.yOff), cntrPt, leafNode)\n",
    "            plotMidText((plotTree.xOff, plotTree.yOff), cntrPt, str(key))\n",
    "    plotTree.yOff = plotTree.yOff + 1.0/plotTree.totalD\n",
    "\n",
    "# createPlot 함수\n",
    "# inTree: 트리 (dictionary)\n",
    "def createPlot(inTree):\n",
    "    fig = plt.figure(1, facecolor='white')\n",
    "    fig.clf()\n",
    "    axprops = dict(xticks=[], yticks=[])\n",
    "    createPlot.ax1 = plt.subplot(111, frameon=False, **axprops)\n",
    "    plotTree.totalW = float(getNumLeafs(inTree))\n",
    "    plotTree.totalD = float(getTreeDepth(inTree))\n",
    "    plotTree.xOff = -0.5/plotTree.totalW; plotTree.yOff = 1.0;\n",
    "    plotTree(inTree, (0.5,1.0), '')\n",
    "    plt.show()"
   ]
  },
  {
   "cell_type": "code",
   "execution_count": 109,
   "metadata": {
    "collapsed": false,
    "scrolled": true
   },
   "outputs": [
    {
     "name": "stdout",
     "output_type": "stream",
     "text": [
      "{'no surfacing': {0: 'no', 1: {'flippers': {0: 'no', 1: 'yes'}}}}\n"
     ]
    },
    {
     "data": {
      "image/png": "[encoded data removed]",
      "text/plain": [
       "<matplotlib.figure.Figure at 0x81c20b8>"
      ]
     },
     "metadata": {},
     "output_type": "display_data"
    }
   ],
   "source": [
    "%matplotlib inline\n",
    "\n",
    "myTree = retrieveTree(0)\n",
    "print myTree\n",
    "createPlot(myTree)"
   ]
  },
  {
   "cell_type": "code",
   "execution_count": 110,
   "metadata": {
    "collapsed": false
   },
   "outputs": [
    {
     "name": "stdout",
     "output_type": "stream",
     "text": [
      "{'no surfacing': {0: 'no', 1: {'flippers': {0: 'no', 1: 'yes'}}, 3: 'maybe'}}\n"
     ]
    },
    {
     "data": {
      "image/png": "[encoded data removed]",
      "text/plain": [
       "<matplotlib.figure.Figure at 0x7868898>"
      ]
     },
     "metadata": {},
     "output_type": "display_data"
    }
   ],
   "source": [
    "%matplotlib inline\n",
    "\n",
    "myTree['no surfacing'][3] = 'maybe'\n",
    "print myTree\n",
    "createPlot(myTree)"
   ]
  },
  {
   "cell_type": "markdown",
   "metadata": {},
   "source": [
    "## 3.3 분류기 검사와 저장\n",
    "\n",
    "### 3.3.1 검사: 분류를 위한 트리 사용"
   ]
  },
  {
   "cell_type": "code",
   "execution_count": 111,
   "metadata": {
    "collapsed": true
   },
   "outputs": [],
   "source": [
    "# classify 함수\n",
    "# inputTree: 트리 (dictionary)\n",
    "# featLabels: 라벨\n",
    "# testVec: testSet\n",
    "# classLabel: 분류된 라벨\n",
    "def classify(inputTree, featLabels, testVec):\n",
    "    firstStr = inputTree.keys()[0]\n",
    "    secondDict = inputTree[firstStr]\n",
    "    featIndex = featLabels.index(firstStr)  # 색인을 위한 분류 항목 표시 문자열 변환\n",
    "    for key in secondDict.keys():\n",
    "        if testVec[featIndex] == key:\n",
    "            if type(secondDict[key]).__name__=='dict':\n",
    "                classLabel = classify(secondDict[key], featLabels, testVec)\n",
    "            else: classLabel = secondDict[key]\n",
    "    return classLabel"
   ]
  },
  {
   "cell_type": "code",
   "execution_count": 112,
   "metadata": {
    "collapsed": false
   },
   "outputs": [
    {
     "name": "stdout",
     "output_type": "stream",
     "text": [
      "[[1, 1, 'yes'], [1, 1, 'yes'], [1, 0, 'no'], [0, 1, 'no'], [0, 1, 'no']]\n",
      "['no surfacing', 'flippers']\n",
      "{'no surfacing': {0: 'no', 1: {'flippers': {0: 'no', 1: 'yes'}}}}\n",
      "no\n",
      "yes\n"
     ]
    }
   ],
   "source": [
    "myDat, labels = createDataSet()\n",
    "myTree = retrieveTree(0)\n",
    "print myDat\n",
    "print labels\n",
    "print myTree\n",
    "print classify(myTree, labels, [1,0])\n",
    "print classify(myTree, labels, [1,1])"
   ]
  },
  {
   "cell_type": "markdown",
   "metadata": {},
   "source": [
    "### 3.3.2 사용: 의사결정 트리 계속 유지하기\n",
    "- 매번 트리를 새로 만드는 것은 비효율적임\n",
    "- 한번 만든 트리를 유지하면 효율적임"
   ]
  },
  {
   "cell_type": "code",
   "execution_count": 113,
   "metadata": {
    "collapsed": true
   },
   "outputs": [],
   "source": [
    "# storeTree 함수\n",
    "# inputTree: 저장할 트리 객체\n",
    "# filename: 저장할 파일 이름\n",
    "def storeTree(inputTree, filename):\n",
    "    import pickle\n",
    "    fw = open(filename, 'w')\n",
    "    pickle.dump(inputTree, fw)  # 객체 저장\n",
    "    fw.close()\n",
    "    \n",
    "# grabTree 함수\n",
    "# filename: 로드할 파일 이름ㄹ\n",
    "# pickle.load(fr): 로드된 트리 객체\n",
    "def grabTree(filename):\n",
    "    import pickle\n",
    "    fr = open(filename)\n",
    "    return pickle.load(fr)  # 객체 로드"
   ]
  },
  {
   "cell_type": "code",
   "execution_count": 114,
   "metadata": {
    "collapsed": false
   },
   "outputs": [
    {
     "data": {
      "text/plain": [
       "{'no surfacing': {0: 'no', 1: {'flippers': {0: 'no', 1: 'yes'}}}}"
      ]
     },
     "execution_count": 114,
     "metadata": {},
     "output_type": "execute_result"
    }
   ],
   "source": [
    "storeTree(myTree, 'data\\classifierStorage.txt')\n",
    "grabTree('data\\classifierStorage.txt')"
   ]
  },
  {
   "cell_type": "markdown",
   "metadata": {},
   "source": [
    "## 3.4 예제: 콘택트렌즈 유형 예측하기\n",
    "- 미리 처방된 콘택트렌즈의 유형을 예측하는 예제\n",
    "- class: 하드(hard), 소프트(soft), 없음(no)"
   ]
  },
  {
   "cell_type": "code",
   "execution_count": 115,
   "metadata": {
    "collapsed": false
   },
   "outputs": [
    {
     "name": "stdout",
     "output_type": "stream",
     "text": [
      "{'tearRate': {'reduced': 'no lenses', 'normal': {'astigmatic': {'yes': {'prescript': {'hyper': {'age': {'pre': 'no lenses', 'presbyopic': 'no lenses', 'young': 'hard'}}, 'myope': 'hard'}}, 'no': {'age': {'pre': 'soft', 'presbyopic': {'prescript': {'hyper': 'soft', 'myope': 'no lenses'}}, 'young': 'soft'}}}}}}\n"
     ]
    },
    {
     "data": {
      "image/png": "[encoded data removed]",
      "text/plain": [
       "<matplotlib.figure.Figure at 0x7a70f98>"
      ]
     },
     "metadata": {},
     "output_type": "display_data"
    }
   ],
   "source": [
    "fr = open('data\\lenses.txt')\n",
    "lenses = [inst.strip().split('\\t') for inst in fr.readlines()]\n",
    "lensesLabels = ['age', 'prescript', 'astigmatic', 'tearRate']\n",
    "lensesTree = createTree(lenses, lensesLabels)\n",
    "print lensesTree\n",
    "createPlot(lensesTree)"
   ]
  },
  {
   "cell_type": "markdown",
   "metadata": {},
   "source": [
    "- 의사결정 트리가 데이터에 너무 잘 일치한다는 것은 과적합(overfitting)이라고 함\n",
    "- 데이터에 너무 종속적임\n",
    "- 따라서 추후 과적합 문제를 줄이기 위해 트리를 가지치기(prune)할 수 있음"
   ]
  }
 ],
 "metadata": {
  "kernelspec": {
   "display_name": "Python 2",
   "language": "python",
   "name": "python2"
  },
  "language_info": {
   "codemirror_mode": {
    "name": "ipython",
    "version": 2
   },
   "file_extension": ".py",
   "mimetype": "text/x-python",
   "name": "python",
   "nbconvert_exporter": "python",
   "pygments_lexer": "ipython2",
   "version": "2.7.11"
  }
 },
 "nbformat": 4,
 "nbformat_minor": 0
}
