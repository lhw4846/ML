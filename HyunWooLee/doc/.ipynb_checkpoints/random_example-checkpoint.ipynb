{
 "cells": [
  {
   "cell_type": "markdown",
   "metadata": {},
   "source": [
    "# 랜덤 프로그램\n",
    "\n",
    "### 귀무가설 : 랜덤 프로그램으로 추출한 A, B의 갯수는 차이가 없다\n",
    "\n",
    "### 대립가설 : 랜덤 프로그램으로 추출한 A, B의 갯수는 차이가 있다\n",
    "\n",
    "### 독립변수 : A, B\n",
    "\n",
    "### 종속변수 : 갯수\n",
    "\n",
    "### 방법론 : 독립 T 검정\n",
    "- 두 집단 간의 평균 차이를 검증\n",
    "\n",
    "### 결론 : 통계적으로 유의하지 않으므로 (p-value > .05) 대립가설 기각, 귀무가설 채택\n"
   ]
  },
  {
   "cell_type": "code",
   "execution_count": 71,
   "metadata": {
    "collapsed": false
   },
   "outputs": [
    {
     "name": "stdout",
     "output_type": "stream",
     "text": [
      "The t-value is -0.242 and the p-value is 0.809.\n"
     ]
    }
   ],
   "source": [
    "%matplotlib inline\n",
    "import numpy as np\n",
    "import matplotlib.pyplot as plt\n",
    "import scipy.stats as stats\n",
    "\n",
    "def createRandomDataSet(k, n):\n",
    "    A = []; B = []\n",
    "    for i in range(k):\n",
    "        random = [0, 0]\n",
    "        for j in range(n):\n",
    "            r = int(np.random.randint(0, 2))\n",
    "            random[r] += 1\n",
    "        A.append(random[0])\n",
    "        B.append(random[1])\n",
    "    return [A, B]\n",
    "\n",
    "def createBarPlot(dataSet):\n",
    "    x = np.arange(10)\n",
    "    plt.barh(x, dataSet)\n",
    "    plt.grid()\n",
    "    \n",
    "\n",
    "def randomTest():\n",
    "    k = 100\n",
    "    n = 1000\n",
    "    dataSet = createRandomDataSet(k, n)\n",
    "\n",
    "    # t-test\n",
    "    #print dataSet\n",
    "    t_test = stats.ttest_ind(dataSet[0], dataSet[1], equal_var=False)\n",
    "    #t_test = stats.ttest_1samp(dataSet, 1)\n",
    "    print \"The t-value is %.3f and the p-value is %.3f.\" % t_test\n",
    "\n",
    "randomTest()"
   ]
  }
 ],
 "metadata": {
  "kernelspec": {
   "display_name": "Python 2",
   "language": "python",
   "name": "python2"
  },
  "language_info": {
   "codemirror_mode": {
    "name": "ipython",
    "version": 2
   },
   "file_extension": ".py",
   "mimetype": "text/x-python",
   "name": "python",
   "nbconvert_exporter": "python",
   "pygments_lexer": "ipython2",
   "version": "2.7.11"
  }
 },
 "nbformat": 4,
 "nbformat_minor": 0
}
