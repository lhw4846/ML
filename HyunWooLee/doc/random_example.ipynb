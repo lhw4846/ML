{
 "cells": [
  {
   "cell_type": "markdown",
   "metadata": {},
   "source": [
    "# 랜덤 프로그램\n",
    "\n",
    "### 귀무가설: 랜덤 프로그램으로 나온 A, B의 횟수가 같다.\n",
    "\n",
    "### 대립가설: 랜덤 프로그램으로 나온 A, B의 횟수가 같지 않다.\n",
    "\n",
    "### 방법론: 독립 T-TEST\n",
    "- 두 집단 간의 평균 차이를 검증\n",
    "- p-value가 0.05 이하일 때, 귀무가설 기각, 대립가설 채택\n",
    "\n",
    "### 독립변수: A, B\n",
    "\n",
    "### 종속변수: 횟수\n",
    "\n",
    "### 결과: 통계적으로 유의하지 않으므로 (p-value > .05) 대립가설 기각, 귀무가설 채택 \n"
   ]
  },
  {
   "cell_type": "code",
   "execution_count": 8,
   "metadata": {
    "collapsed": false
   },
   "outputs": [
    {
     "name": "stdout",
     "output_type": "stream",
     "text": [
      "t-value is 1.118, p-value is 0.264\n"
     ]
    }
   ],
   "source": [
    "import numpy as np\n",
    "from scipy import stats\n",
    "\n",
    "def createRandomDataSet(n, k):\n",
    "    A = []; B = []\n",
    "    for i in range(n):\n",
    "        randomData = [0, 0]\n",
    "        for j in range(k):\n",
    "            r = int(np.random.randint(0, 2))\n",
    "            randomData[r] += 1\n",
    "        A.append(randomData[0])\n",
    "        B.append(randomData[1])\n",
    "    return [A, B]\n",
    "\n",
    "def randomTest():\n",
    "    n = 1000\n",
    "    k = 1000\n",
    "    dataSet = createRandomDataSet(n, k)\n",
    "\n",
    "    #print dataSet\n",
    "    \n",
    "    t_test = stats.ttest_ind(dataSet[0], dataSet[1], equal_var=False)\n",
    "    print \"t-value is %.3f, p-value is %.3f\" % t_test\n",
    "\n",
    "randomTest()"
   ]
  }
 ],
 "metadata": {
  "kernelspec": {
   "display_name": "Python 2",
   "language": "python",
   "name": "python2"
  },
  "language_info": {
   "codemirror_mode": {
    "name": "ipython",
    "version": 2
   },
   "file_extension": ".py",
   "mimetype": "text/x-python",
   "name": "python",
   "nbconvert_exporter": "python",
   "pygments_lexer": "ipython2",
   "version": "2.7.11"
  }
 },
 "nbformat": 4,
 "nbformat_minor": 0
}
