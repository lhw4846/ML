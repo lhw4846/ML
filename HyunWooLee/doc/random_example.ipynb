{
 "cells": [
  {
   "cell_type": "code",
   "execution_count": 27,
   "metadata": {
    "collapsed": false
   },
   "outputs": [
    {
     "name": "stdout",
     "output_type": "stream",
     "text": [
      "mean: 1000.000000\n",
      "stander deviation: 41.337634\n",
      "variance: 1708.800000\n"
     ]
    },
    {
     "data": {
      "image/png": "[encoded data removed]",
      "text/plain": [
       "<matplotlib.figure.Figure at 0x7e45cc0>"
      ]
     },
     "metadata": {},
     "output_type": "display_data"
    }
   ],
   "source": [
    "%matplotlib inline\n",
    "import numpy as np\n",
    "import matplotlib\n",
    "import matplotlib.pyplot as plt\n",
    "\n",
    "def createRandomDataSet(n):\n",
    "    randomDataSet = [0, 0, 0, 0, 0, 0, 0, 0, 0, 0]\n",
    "    for i in range(n):\n",
    "        n = int(np.random.randint(0, 10))\n",
    "        randomDataSet[n] += 1\n",
    "    return np.array(randomDataSet)\n",
    "\n",
    "def createBarPlot(dataSet):\n",
    "    x = np.arange(10)\n",
    "    plt.barh(x, dataSet)\n",
    "    plt.grid()\n",
    "    \n",
    "\n",
    "def randomTest():\n",
    "    n = 10000\n",
    "    dataSet = createRandomDataSet(n)\n",
    "\n",
    "    mean = dataSet.mean()\n",
    "    sd = dataSet.std()\n",
    "    var = dataSet.var()\n",
    "\n",
    "    print \"mean: %f\" % mean\n",
    "    print \"stander deviation: %f\" % sd\n",
    "    print \"variance: %f\" % var\n",
    "    createBarPlot(dataSet)\n",
    "\n",
    "randomTest()"
   ]
  }
 ],
 "metadata": {
  "kernelspec": {
   "display_name": "Python 2",
   "language": "python",
   "name": "python2"
  },
  "language_info": {
   "codemirror_mode": {
    "name": "ipython",
    "version": 2
   },
   "file_extension": ".py",
   "mimetype": "text/x-python",
   "name": "python",
   "nbconvert_exporter": "python",
   "pygments_lexer": "ipython2",
   "version": "2.7.11"
  }
 },
 "nbformat": 4,
 "nbformat_minor": 0
}
